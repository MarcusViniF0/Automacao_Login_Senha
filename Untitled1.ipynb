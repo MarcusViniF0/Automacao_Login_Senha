{
 "cells": [
  {
   "cell_type": "code",
   "execution_count": 31,
   "id": "c2e5a027",
   "metadata": {},
   "outputs": [],
   "source": [
    "import pyautogui\n",
    "\n",
    "pyautogui.PAUSE = 2\n",
    "\n",
    "pyautogui.press(\"win\")\n",
    "pyautogui.write(\"login.xlsx\")\n",
    "pyautogui.press(\"backspace\")\n",
    "pyautogui.press(\"enter\")\n",
    "\n",
    "pyautogui.click(x=564, y=484)\n",
    "pyautogui.write(\"marcus\")\n",
    "\n",
    "pyautogui.click(x=439, y=530)\n",
    "pyautogui.write(\"123\")\n",
    "\n",
    "pyautogui.click(x=633, y=650)\n"
   ]
  },
  {
   "cell_type": "code",
   "execution_count": 30,
   "id": "1b24cc61",
   "metadata": {},
   "outputs": [
    {
     "data": {
      "text/plain": [
       "Point(x=633, y=650)"
      ]
     },
     "execution_count": 30,
     "metadata": {},
     "output_type": "execute_result"
    }
   ],
   "source": [
    "import pyautogui\n",
    "import time\n",
    "\n",
    "time.sleep(3)\n",
    "pyautogui.position()"
   ]
  },
  {
   "cell_type": "code",
   "execution_count": 25,
   "id": "d526fcf4",
   "metadata": {},
   "outputs": [],
   "source": [
    "from selenium import webdriver\n",
    "import time\n",
    "\n",
    "navegador = webdriver.Chrome()\n",
    "navegador.get(\"https://login.live.com/\")\n",
    "time.sleep(1)\n",
    "navegador.find_element('xpath','//*[@id=\"i0116\"]').send_keys(\"pythonimpressionador@outlook.com\")"
   ]
  },
  {
   "cell_type": "code",
   "execution_count": null,
   "id": "bdb655a6",
   "metadata": {},
   "outputs": [],
   "source": []
  }
 ],
 "metadata": {
  "kernelspec": {
   "display_name": "Python 3 (ipykernel)",
   "language": "python",
   "name": "python3"
  },
  "language_info": {
   "codemirror_mode": {
    "name": "ipython",
    "version": 3
   },
   "file_extension": ".py",
   "mimetype": "text/x-python",
   "name": "python",
   "nbconvert_exporter": "python",
   "pygments_lexer": "ipython3",
   "version": "3.11.5"
  }
 },
 "nbformat": 4,
 "nbformat_minor": 5
}
